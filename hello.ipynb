{
 "cells": [
  {
   "cell_type": "markdown",
   "metadata": {},
   "source": [
    "# Print"
   ]
  },
  {
   "cell_type": "code",
   "execution_count": null,
   "metadata": {},
   "outputs": [],
   "source": [
    "#Escrever uma mensagem na tela, entre aspas\n",
    "print('Hello, world!')\n",
    "\n",
    "#Fazer um cálculo e printar o resultado, sem aspas\n",
    "print(4+7)\n",
    "\n",
    "#O + e a , unem as strings e valores\n",
    "print('4'+'7')\n",
    "\n",
    "#Ao usar uma string e um int, por exemplo, o ideal é usar vírgula para não ser interpretado como soma\n",
    "print('Olá', 5)\n"
   ]
  },
  {
   "cell_type": "markdown",
   "metadata": {},
   "source": [
    "# Variáveis"
   ]
  },
  {
   "cell_type": "code",
   "execution_count": null,
   "metadata": {},
   "outputs": [],
   "source": [
    "#No Python, toda variável é um objeto. Um objeto é mais do que uma variável.\n",
    "\n",
    "nome='Guanabara'\n",
    "idade=25\n",
    "peso=75.8\n",
    "\n",
    "# Sempre que você ver um símbolo de igual, você pensa \"recebe\". Exemplo: Nome recebe Guanabara\n",
    "\n",
    "print(nome, idade, peso)"
   ]
  },
  {
   "cell_type": "code",
   "execution_count": 4,
   "metadata": {},
   "outputs": [],
   "source": [
    "# Nome recebe o resultado do input de 'qual é o seu nome?' e o resultado que o usuário responder, será armazenado na variável.\n",
    "\n",
    "nome=input('Qual é o seu nome?')\n",
    "idade=input('Quantos anos você tem?')\n",
    "peso=input('Quanto você pesa?')"
   ]
  },
  {
   "cell_type": "code",
   "execution_count": 9,
   "metadata": {},
   "outputs": [
    {
     "name": "stdout",
     "output_type": "stream",
     "text": [
      "Gabriel 24 74\n",
      "Olá, Gabriel ! Seja bem-vindo!\n"
     ]
    }
   ],
   "source": [
    "# Mostra na tela os valores armazenados na variável\n",
    "print(nome, idade, peso)\n"
   ]
  }
 ],
 "metadata": {
  "kernelspec": {
   "display_name": "Python 3",
   "language": "python",
   "name": "python3"
  },
  "language_info": {
   "codemirror_mode": {
    "name": "ipython",
    "version": 3
   },
   "file_extension": ".py",
   "mimetype": "text/x-python",
   "name": "python",
   "nbconvert_exporter": "python",
   "pygments_lexer": "ipython3",
   "version": "3.11.5"
  },
  "orig_nbformat": 4
 },
 "nbformat": 4,
 "nbformat_minor": 2
}
